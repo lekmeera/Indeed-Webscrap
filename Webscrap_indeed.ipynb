{
  "nbformat": 4,
  "nbformat_minor": 0,
  "metadata": {
    "colab": {
      "name": "Webscrap-indeed.ipynb",
      "provenance": [],
      "collapsed_sections": []
    },
    "kernelspec": {
      "name": "python3",
      "display_name": "Python 3"
    }
  },
  "cells": [
    {
      "cell_type": "code",
      "metadata": {
        "id": "A1HxrNa31eNi",
        "colab_type": "code",
        "colab": {
          "base_uri": "https://localhost:8080/",
          "height": 70
        },
        "outputId": "76ac2ee4-9f56-4fd3-e085-8d898ba046c3"
      },
      "source": [
        "import pandas as pd\n",
        "import numpy as np\n",
        "import matplotlib.pyplot as plt\n",
        "import seaborn as sns\n",
        "from urllib.request import urlopen\n",
        "from bs4 import BeautifulSoup\n",
        "import urllib.request"
      ],
      "execution_count": 1,
      "outputs": [
        {
          "output_type": "stream",
          "text": [
            "/usr/local/lib/python3.6/dist-packages/statsmodels/tools/_testing.py:19: FutureWarning: pandas.util.testing is deprecated. Use the functions in the public API at pandas.testing instead.\n",
            "  import pandas.util.testing as tm\n"
          ],
          "name": "stderr"
        }
      ]
    },
    {
      "cell_type": "code",
      "metadata": {
        "id": "HXtRblKL1jaF",
        "colab_type": "code",
        "colab": {}
      },
      "source": [
        "url = 'https://www.indeed.co.in/jobs?q=python+developer&l=India&start=10'\n",
        "page = urllib.request.urlopen(url)"
      ],
      "execution_count": 0,
      "outputs": []
    },
    {
      "cell_type": "code",
      "metadata": {
        "id": "C0fSf6QK1k_j",
        "colab_type": "code",
        "colab": {}
      },
      "source": [
        "soup = BeautifulSoup(page,'lxml')"
      ],
      "execution_count": 0,
      "outputs": []
    },
    {
      "cell_type": "code",
      "metadata": {
        "id": "nm_2wThP1lIf",
        "colab_type": "code",
        "colab": {}
      },
      "source": [
        "print(soup.prettify())"
      ],
      "execution_count": 0,
      "outputs": []
    },
    {
      "cell_type": "code",
      "metadata": {
        "id": "rnFkjccr10TC",
        "colab_type": "code",
        "outputId": "00ccc5c0-bc19-4853-aaab-7b0c760d7d71",
        "colab": {
          "base_uri": "https://localhost:8080/",
          "height": 34
        }
      },
      "source": [
        "soup.title.string"
      ],
      "execution_count": 4,
      "outputs": [
        {
          "output_type": "execute_result",
          "data": {
            "text/plain": [
              "'Python Developer Jobs, Employment in India - May 2020 | Indeed.co.in'"
            ]
          },
          "metadata": {
            "tags": []
          },
          "execution_count": 4
        }
      ]
    },
    {
      "cell_type": "code",
      "metadata": {
        "id": "46cE45Hz14M4",
        "colab_type": "code",
        "colab": {}
      },
      "source": [
        "df_loc = pd.DataFrame(columns=[\"location\"])\n",
        "df_company = pd.DataFrame(columns=[\"company\"])\n",
        "df_jobt = pd.DataFrame(columns=[\"job_title\"])\n",
        "df_sal = pd.DataFrame(columns=[\"salary\"])"
      ],
      "execution_count": 0,
      "outputs": []
    },
    {
      "cell_type": "code",
      "metadata": {
        "id": "2Rn_LIOe19ZM",
        "colab_type": "code",
        "colab": {}
      },
      "source": [
        "def get_company(result):\n",
        "    for com in result.find_all('span', {'class': 'company'}):\n",
        "        company = com.text\n",
        "        df_company.loc[len(df_company)] = [company]    \n",
        "        \n",
        "def get_location(result):\n",
        "    for loc in result.find_all('div',{'class':'location accessible-contrast-color-location'}):\n",
        "        location = loc.text\n",
        "        df_loc.loc[len(df_loc)] = [location]   \n",
        "\n",
        "def get_jobt(result):\n",
        "    for j in result.find_all('a', {'data-tn-element':'jobTitle'}):\n",
        "        job_title = j.text\n",
        "        df_jobt.loc[len(df_jobt)] = [job_title]\n",
        "\n",
        "def extract_salary(result):\n",
        "    for entry in result.find_all('td', {'class' : 'snip'}):\n",
        "        try:\n",
        "            salary = entry.find('nobr').text\n",
        "            dfsalary.loc[len(dfsalary)] = [salary]  \n",
        "        except:\n",
        "            salary = 'NA'\n",
        "            dfsalary.loc[len(dfsalary)] = [salary]"
      ],
      "execution_count": 0,
      "outputs": []
    },
    {
      "cell_type": "code",
      "metadata": {
        "id": "f-AIg8jR19gI",
        "colab_type": "code",
        "colab": {}
      },
      "source": [
        "cities=['Andhra+Pradesh','Arunachal+Pradesh',\n",
        "        'Assam', 'Bihar', 'Chhattisgarh', 'Goa', 'Gujarat', 'Haryana','Himachal+Pradesh', 'Jharkhand',\n",
        "        'Karnataka','Kerala','Madhya+Pradesh','Maharashtra','Manipur','Meghalaya','Mizoram','Nagaland',\n",
        "        'Odisha', 'Punjab', 'Rajasthan', 'Sikkim', 'Tamil+Nadu', 'Telangana', 'Tripura', 'Uttar+Pradesh',\n",
        "        'Uttarakhand','West+Bengal']"
      ],
      "execution_count": 0,
      "outputs": []
    },
    {
      "cell_type": "code",
      "metadata": {
        "id": "f8lB8Lmr2BH8",
        "colab_type": "code",
        "colab": {}
      },
      "source": [
        "urlt = \"https://www.indeed.co.in/jobs?q=python+developer&l={}&start={}\"\n",
        "max_cities = 100\n",
        "df = pd.DataFrame(columns=['job_title',\"location\", 'company'])"
      ],
      "execution_count": 0,
      "outputs": []
    },
    {
      "cell_type": "code",
      "metadata": {
        "id": "DR4KkM1j2JMj",
        "colab_type": "code",
        "outputId": "b5c09af5-c92a-4c28-c6a6-38a30262daba",
        "colab": {
          "base_uri": "https://localhost:8080/",
          "height": 195
        }
      },
      "source": [
        "for city in cities:\n",
        "    for start in range(0, max_cities, 10):\n",
        "        url = urlt.format(city,start)\n",
        "        page = urllib.request.urlopen(url)\n",
        "        soup = BeautifulSoup(page,'lxml')\n",
        "        for i in soup.find_all('div', attrs = {'class':'jobsearch-SerpJobCard unifiedRow row result'}):\n",
        "            loc1 = i.find('span', attrs = {'class': 'location'}).text\n",
        "            jobt1 = i.find('a', attrs = {'data-tn-element':'jobTitle'}).text.strip()\n",
        "            try:\n",
        "                company1 = i.find('span', attrs = {'class':'company'}).text.strip()\n",
        "            except:\n",
        "                company1 = 'NA'\n",
        "           \n",
        "            df = df.append({\"job_title\": jobt1,\"location\":loc1,\"company\":company1}, ignore_index=True) \n",
        "df.head()"
      ],
      "execution_count": 9,
      "outputs": [
        {
          "output_type": "execute_result",
          "data": {
            "text/html": [
              "<div>\n",
              "<style scoped>\n",
              "    .dataframe tbody tr th:only-of-type {\n",
              "        vertical-align: middle;\n",
              "    }\n",
              "\n",
              "    .dataframe tbody tr th {\n",
              "        vertical-align: top;\n",
              "    }\n",
              "\n",
              "    .dataframe thead th {\n",
              "        text-align: right;\n",
              "    }\n",
              "</style>\n",
              "<table border=\"1\" class=\"dataframe\">\n",
              "  <thead>\n",
              "    <tr style=\"text-align: right;\">\n",
              "      <th></th>\n",
              "      <th>job_title</th>\n",
              "      <th>location</th>\n",
              "      <th>company</th>\n",
              "    </tr>\n",
              "  </thead>\n",
              "  <tbody>\n",
              "    <tr>\n",
              "      <th>0</th>\n",
              "      <td>Developer- Python &amp; Django</td>\n",
              "      <td>Mahal, Andhra Pradesh</td>\n",
              "      <td>Drishti Tech</td>\n",
              "    </tr>\n",
              "    <tr>\n",
              "      <th>1</th>\n",
              "      <td>ReactJS Developer</td>\n",
              "      <td>Official Colony, Andhra Pradesh</td>\n",
              "      <td>H-Town Technologies</td>\n",
              "    </tr>\n",
              "    <tr>\n",
              "      <th>2</th>\n",
              "      <td>Python Developer</td>\n",
              "      <td>Visakhapatnam, Andhra Pradesh</td>\n",
              "      <td>Ramersoft</td>\n",
              "    </tr>\n",
              "    <tr>\n",
              "      <th>3</th>\n",
              "      <td>Full Stack Developer</td>\n",
              "      <td>Hanamkonda, Andhra Pradesh</td>\n",
              "      <td>SVAPPS SOFT SOLUTIONS PVT. LTD.</td>\n",
              "    </tr>\n",
              "    <tr>\n",
              "      <th>4</th>\n",
              "      <td>Developer- Machine Learning &amp; Computer Vision</td>\n",
              "      <td>Mahal, Andhra Pradesh</td>\n",
              "      <td>Drishti Tech</td>\n",
              "    </tr>\n",
              "  </tbody>\n",
              "</table>\n",
              "</div>"
            ],
            "text/plain": [
              "                                       job_title  ...                          company\n",
              "0                     Developer- Python & Django  ...                     Drishti Tech\n",
              "1                              ReactJS Developer  ...              H-Town Technologies\n",
              "2                               Python Developer  ...                        Ramersoft\n",
              "3                           Full Stack Developer  ...  SVAPPS SOFT SOLUTIONS PVT. LTD.\n",
              "4  Developer- Machine Learning & Computer Vision  ...                     Drishti Tech\n",
              "\n",
              "[5 rows x 3 columns]"
            ]
          },
          "metadata": {
            "tags": []
          },
          "execution_count": 9
        }
      ]
    },
    {
      "cell_type": "code",
      "metadata": {
        "id": "pJC6BbGn6Az7",
        "colab_type": "code",
        "outputId": "ef08b9f9-6f96-4074-beee-64ca684f2ed8",
        "colab": {
          "base_uri": "https://localhost:8080/",
          "height": 34
        }
      },
      "source": [
        "df.shape"
      ],
      "execution_count": 10,
      "outputs": [
        {
          "output_type": "execute_result",
          "data": {
            "text/plain": [
              "(1625, 3)"
            ]
          },
          "metadata": {
            "tags": []
          },
          "execution_count": 10
        }
      ]
    },
    {
      "cell_type": "code",
      "metadata": {
        "id": "jS3hWSB-M0S5",
        "colab_type": "code",
        "outputId": "9fe73e40-faa1-434d-c38a-fdce1a7a0980",
        "colab": {
          "base_uri": "https://localhost:8080/",
          "height": 84
        }
      },
      "source": [
        "df.isnull().sum()"
      ],
      "execution_count": 11,
      "outputs": [
        {
          "output_type": "execute_result",
          "data": {
            "text/plain": [
              "job_title    0\n",
              "location     0\n",
              "company      0\n",
              "dtype: int64"
            ]
          },
          "metadata": {
            "tags": []
          },
          "execution_count": 11
        }
      ]
    },
    {
      "cell_type": "code",
      "metadata": {
        "id": "oUtUwvgjCHGU",
        "colab_type": "code",
        "outputId": "5587abe2-9e63-4cc2-9740-d3d6a17f361d",
        "colab": {
          "base_uri": "https://localhost:8080/",
          "height": 218
        }
      },
      "source": [
        "df['location'].value_counts()"
      ],
      "execution_count": 12,
      "outputs": [
        {
          "output_type": "execute_result",
          "data": {
            "text/plain": [
              "Gurgaon, Haryana                   98\n",
              "Bengaluru, Karnataka               95\n",
              "Hyderabad, Telangana               94\n",
              "Kolkata, West Bengal               94\n",
              "Noida, Uttar Pradesh               87\n",
              "                                   ..\n",
              "Thanjavur, Tamil Nadu               1\n",
              "Official Colony, Andhra Pradesh     1\n",
              "Hanamkonda, Andhra Pradesh          1\n",
              "Kanpur, Uttar Pradesh               1\n",
              "Bhopal, Madhya Pradesh              1\n",
              "Name: location, Length: 113, dtype: int64"
            ]
          },
          "metadata": {
            "tags": []
          },
          "execution_count": 12
        }
      ]
    },
    {
      "cell_type": "code",
      "metadata": {
        "id": "Lt6LVSH7YsDY",
        "colab_type": "code",
        "outputId": "f6e71438-79c8-4196-8d52-7b1d4b1f0ad3",
        "colab": {
          "base_uri": "https://localhost:8080/",
          "height": 121
        }
      },
      "source": [
        "from google.colab import drive\n",
        "drive.mount('/drive')"
      ],
      "execution_count": 13,
      "outputs": [
        {
          "output_type": "stream",
          "text": [
            "Go to this URL in a browser: https://accounts.google.com/o/oauth2/auth?client_id=947318989803-6bn6qk8qdgf4n4g3pfee6491hc0brc4i.apps.googleusercontent.com&redirect_uri=urn%3aietf%3awg%3aoauth%3a2.0%3aoob&response_type=code&scope=email%20https%3a%2f%2fwww.googleapis.com%2fauth%2fdocs.test%20https%3a%2f%2fwww.googleapis.com%2fauth%2fdrive%20https%3a%2f%2fwww.googleapis.com%2fauth%2fdrive.photos.readonly%20https%3a%2f%2fwww.googleapis.com%2fauth%2fpeopleapi.readonly\n",
            "\n",
            "Enter your authorization code:\n",
            "··········\n",
            "Mounted at /drive\n"
          ],
          "name": "stdout"
        }
      ]
    },
    {
      "cell_type": "code",
      "metadata": {
        "id": "8x5Pz1T3Y0JJ",
        "colab_type": "code",
        "colab": {}
      },
      "source": [
        "# Write the DataFrame to CSV file.\n",
        "with open('/drive/My Drive/indeed1.csv', 'w') as f:\n",
        "  df.to_csv(f)"
      ],
      "execution_count": 0,
      "outputs": []
    },
    {
      "cell_type": "code",
      "metadata": {
        "id": "aRC6w2heSE5P",
        "colab_type": "code",
        "outputId": "141c9d58-a69e-4aa0-aec6-b2ff73d48b75",
        "colab": {
          "base_uri": "https://localhost:8080/",
          "height": 34
        }
      },
      "source": [
        "import csv, sqlite3\n",
        "conn = sqlite3.connect(\"indeed.sl3\")\n",
        "curs = conn.cursor()\n",
        "curs.execute(\"CREATE TABLE indeed (job_title TEXT, location TEXT, company TEXT);\")"
      ],
      "execution_count": 24,
      "outputs": [
        {
          "output_type": "execute_result",
          "data": {
            "text/plain": [
              "<sqlite3.Cursor at 0x7f9edaee8f10>"
            ]
          },
          "metadata": {
            "tags": []
          },
          "execution_count": 24
        }
      ]
    },
    {
      "cell_type": "code",
      "metadata": {
        "id": "Ht4FJPtn7Bps",
        "colab_type": "code",
        "colab": {}
      },
      "source": [
        "with open('/drive/My Drive/indeed1.csv', 'r') as f:\n",
        "    reader = csv.reader(f)\n",
        "    for row in reader:\n",
        "      #print (row)\n",
        "      #to_db = [unicode(row[0], \"utf8\"), unicode(row[1], \"utf8\"), unicode(row[2], \"utf8\")]\n",
        "      #sql = ''' INSERT INTO indeed (id,job_title,location,company) VALUES(?, ?, ?, ?) '''\n",
        "      curs.execute(\"INSERT INTO indeed (job_title,location,company) VALUES(?, ?, ?);\", (row[1],row[2],row[3]))  \n",
        "conn.commit()"
      ],
      "execution_count": 0,
      "outputs": []
    },
    {
      "cell_type": "code",
      "metadata": {
        "id": "jCAQoRts9Wzr",
        "colab_type": "code",
        "colab": {}
      },
      "source": [
        "import pandas as pd"
      ],
      "execution_count": 0,
      "outputs": []
    },
    {
      "cell_type": "code",
      "metadata": {
        "id": "bQnChIem85H_",
        "colab_type": "code",
        "outputId": "5a377276-1527-445a-d65b-4c03af01bdd5",
        "colab": {
          "base_uri": "https://localhost:8080/",
          "height": 252
        }
      },
      "source": [
        "con = sqlite3.connect('/content/indeed.sl3')\n",
        "filtered_data = pd.read_sql_query(\"\"\"\n",
        "SELECT * \n",
        "FROM Indeed\n",
        "\"\"\", con)\n",
        "print(filtered_data)"
      ],
      "execution_count": 29,
      "outputs": [
        {
          "output_type": "stream",
          "text": [
            "                                      job_title  ...                          company\n",
            "0                                     job_title  ...                          company\n",
            "1                    Developer- Python & Django  ...                     Drishti Tech\n",
            "2                             ReactJS Developer  ...              H-Town Technologies\n",
            "3                              Python Developer  ...                        Ramersoft\n",
            "4                          Full Stack Developer  ...  SVAPPS SOFT SOLUTIONS PVT. LTD.\n",
            "...                                         ...  ...                              ...\n",
            "1621      IBM Tivoli Monitoring Jobs in Kolkata  ...         ICS Consultancy Services\n",
            "1622  IBM Tivoli Monitoring Openings in Kolkata  ...         ICS Consultancy Services\n",
            "1623         SOFTWARE ENGINEER (Windows, Linux)  ...          Core Scientific Systems\n",
            "1624                              Sales Manager  ...                   Prime Infoserv\n",
            "1625                            Sales Executive  ...                   Prime Infoserv\n",
            "\n",
            "[1626 rows x 3 columns]\n"
          ],
          "name": "stdout"
        }
      ]
    }
  ]
}